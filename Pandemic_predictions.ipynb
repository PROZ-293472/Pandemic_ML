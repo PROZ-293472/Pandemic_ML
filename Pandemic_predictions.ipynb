{
  "nbformat": 4,
  "nbformat_minor": 0,
  "metadata": {
    "colab": {
      "name": "Pandemic_predictions.ipynb",
      "provenance": []
    },
    "kernelspec": {
      "name": "python3",
      "display_name": "Python 3"
    }
  },
  "cells": [
    {
      "cell_type": "markdown",
      "metadata": {
        "id": "q3m_KtL0N3CS",
        "colab_type": "text"
      },
      "source": [
        "This is my try to model COVID-19 pandemic in US using statistical learning methods.\n",
        " I will use recurrent neural networks to model confirmed-cases and deaths curves."
      ]
    },
    {
      "cell_type": "code",
      "metadata": {
        "id": "wNmFPIF83Gde",
        "colab_type": "code",
        "colab": {}
      },
      "source": [
        "import math\n",
        "import pandas as pd\n",
        "import numpy as np\n",
        "import tensorflow as tf\n",
        "import matplotlib.pyplot as plt\n",
        "from sklearn.preprocessing import MinMaxScaler\n",
        "from tensorflow.keras.models import Sequential\n",
        "from tensorflow.keras.layers import Dense, LSTM"
      ],
      "execution_count": 0,
      "outputs": []
    },
    {
      "cell_type": "code",
      "metadata": {
        "id": "oankeuQX5VvL",
        "colab_type": "code",
        "colab": {
          "base_uri": "https://localhost:8080/",
          "height": 670
        },
        "outputId": "c32fb221-561b-43e8-8706-011af11fcd0c"
      },
      "source": [
        "data = pd.read_csv(\"usa_county_wise.csv\", sep=',')\n",
        "data['Date'] = pd.to_datetime(data.Date)\n",
        "data"
      ],
      "execution_count": 82,
      "outputs": [
        {
          "output_type": "execute_result",
          "data": {
            "text/html": [
              "<div>\n",
              "<style scoped>\n",
              "    .dataframe tbody tr th:only-of-type {\n",
              "        vertical-align: middle;\n",
              "    }\n",
              "\n",
              "    .dataframe tbody tr th {\n",
              "        vertical-align: top;\n",
              "    }\n",
              "\n",
              "    .dataframe thead th {\n",
              "        text-align: right;\n",
              "    }\n",
              "</style>\n",
              "<table border=\"1\" class=\"dataframe\">\n",
              "  <thead>\n",
              "    <tr style=\"text-align: right;\">\n",
              "      <th></th>\n",
              "      <th>UID</th>\n",
              "      <th>iso2</th>\n",
              "      <th>iso3</th>\n",
              "      <th>code3</th>\n",
              "      <th>FIPS</th>\n",
              "      <th>Admin2</th>\n",
              "      <th>Province_State</th>\n",
              "      <th>Country_Region</th>\n",
              "      <th>Lat</th>\n",
              "      <th>Long_</th>\n",
              "      <th>Combined_Key</th>\n",
              "      <th>Date</th>\n",
              "      <th>Confirmed</th>\n",
              "      <th>Deaths</th>\n",
              "    </tr>\n",
              "  </thead>\n",
              "  <tbody>\n",
              "    <tr>\n",
              "      <th>0</th>\n",
              "      <td>16.0</td>\n",
              "      <td>AS</td>\n",
              "      <td>ASM</td>\n",
              "      <td>16</td>\n",
              "      <td>60.0</td>\n",
              "      <td>NaN</td>\n",
              "      <td>American Samoa</td>\n",
              "      <td>US</td>\n",
              "      <td>-14.271000</td>\n",
              "      <td>-170.132000</td>\n",
              "      <td>American Samoa, US</td>\n",
              "      <td>2020-01-22</td>\n",
              "      <td>0</td>\n",
              "      <td>0</td>\n",
              "    </tr>\n",
              "    <tr>\n",
              "      <th>1</th>\n",
              "      <td>316.0</td>\n",
              "      <td>GU</td>\n",
              "      <td>GUM</td>\n",
              "      <td>316</td>\n",
              "      <td>66.0</td>\n",
              "      <td>NaN</td>\n",
              "      <td>Guam</td>\n",
              "      <td>US</td>\n",
              "      <td>13.444300</td>\n",
              "      <td>144.793700</td>\n",
              "      <td>Guam, US</td>\n",
              "      <td>2020-01-22</td>\n",
              "      <td>0</td>\n",
              "      <td>0</td>\n",
              "    </tr>\n",
              "    <tr>\n",
              "      <th>2</th>\n",
              "      <td>580.0</td>\n",
              "      <td>MP</td>\n",
              "      <td>MNP</td>\n",
              "      <td>580</td>\n",
              "      <td>69.0</td>\n",
              "      <td>NaN</td>\n",
              "      <td>Northern Mariana Islands</td>\n",
              "      <td>US</td>\n",
              "      <td>15.097900</td>\n",
              "      <td>145.673900</td>\n",
              "      <td>Northern Mariana Islands, US</td>\n",
              "      <td>2020-01-22</td>\n",
              "      <td>0</td>\n",
              "      <td>0</td>\n",
              "    </tr>\n",
              "    <tr>\n",
              "      <th>3</th>\n",
              "      <td>630.0</td>\n",
              "      <td>PR</td>\n",
              "      <td>PRI</td>\n",
              "      <td>630</td>\n",
              "      <td>72.0</td>\n",
              "      <td>NaN</td>\n",
              "      <td>Puerto Rico</td>\n",
              "      <td>US</td>\n",
              "      <td>18.220800</td>\n",
              "      <td>-66.590100</td>\n",
              "      <td>Puerto Rico, US</td>\n",
              "      <td>2020-01-22</td>\n",
              "      <td>0</td>\n",
              "      <td>0</td>\n",
              "    </tr>\n",
              "    <tr>\n",
              "      <th>4</th>\n",
              "      <td>850.0</td>\n",
              "      <td>VI</td>\n",
              "      <td>VIR</td>\n",
              "      <td>850</td>\n",
              "      <td>78.0</td>\n",
              "      <td>NaN</td>\n",
              "      <td>Virgin Islands</td>\n",
              "      <td>US</td>\n",
              "      <td>18.335800</td>\n",
              "      <td>-64.896300</td>\n",
              "      <td>Virgin Islands, US</td>\n",
              "      <td>2020-01-22</td>\n",
              "      <td>0</td>\n",
              "      <td>0</td>\n",
              "    </tr>\n",
              "    <tr>\n",
              "      <th>...</th>\n",
              "      <td>...</td>\n",
              "      <td>...</td>\n",
              "      <td>...</td>\n",
              "      <td>...</td>\n",
              "      <td>...</td>\n",
              "      <td>...</td>\n",
              "      <td>...</td>\n",
              "      <td>...</td>\n",
              "      <td>...</td>\n",
              "      <td>...</td>\n",
              "      <td>...</td>\n",
              "      <td>...</td>\n",
              "      <td>...</td>\n",
              "      <td>...</td>\n",
              "    </tr>\n",
              "    <tr>\n",
              "      <th>335878</th>\n",
              "      <td>84070016.0</td>\n",
              "      <td>US</td>\n",
              "      <td>USA</td>\n",
              "      <td>840</td>\n",
              "      <td>NaN</td>\n",
              "      <td>Central Utah</td>\n",
              "      <td>Utah</td>\n",
              "      <td>US</td>\n",
              "      <td>39.372319</td>\n",
              "      <td>-111.575868</td>\n",
              "      <td>Central Utah, Utah, US</td>\n",
              "      <td>2020-05-03</td>\n",
              "      <td>24</td>\n",
              "      <td>0</td>\n",
              "    </tr>\n",
              "    <tr>\n",
              "      <th>335879</th>\n",
              "      <td>84070017.0</td>\n",
              "      <td>US</td>\n",
              "      <td>USA</td>\n",
              "      <td>840</td>\n",
              "      <td>NaN</td>\n",
              "      <td>Southeast Utah</td>\n",
              "      <td>Utah</td>\n",
              "      <td>US</td>\n",
              "      <td>38.996171</td>\n",
              "      <td>-110.701396</td>\n",
              "      <td>Southeast Utah, Utah, US</td>\n",
              "      <td>2020-05-03</td>\n",
              "      <td>11</td>\n",
              "      <td>0</td>\n",
              "    </tr>\n",
              "    <tr>\n",
              "      <th>335880</th>\n",
              "      <td>84070018.0</td>\n",
              "      <td>US</td>\n",
              "      <td>USA</td>\n",
              "      <td>840</td>\n",
              "      <td>NaN</td>\n",
              "      <td>Southwest Utah</td>\n",
              "      <td>Utah</td>\n",
              "      <td>US</td>\n",
              "      <td>37.854472</td>\n",
              "      <td>-111.441876</td>\n",
              "      <td>Southwest Utah, Utah, US</td>\n",
              "      <td>2020-05-03</td>\n",
              "      <td>111</td>\n",
              "      <td>2</td>\n",
              "    </tr>\n",
              "    <tr>\n",
              "      <th>335881</th>\n",
              "      <td>84070019.0</td>\n",
              "      <td>US</td>\n",
              "      <td>USA</td>\n",
              "      <td>840</td>\n",
              "      <td>NaN</td>\n",
              "      <td>TriCounty</td>\n",
              "      <td>Utah</td>\n",
              "      <td>US</td>\n",
              "      <td>40.124915</td>\n",
              "      <td>-109.517442</td>\n",
              "      <td>TriCounty, Utah, US</td>\n",
              "      <td>2020-05-03</td>\n",
              "      <td>14</td>\n",
              "      <td>0</td>\n",
              "    </tr>\n",
              "    <tr>\n",
              "      <th>335882</th>\n",
              "      <td>84070020.0</td>\n",
              "      <td>US</td>\n",
              "      <td>USA</td>\n",
              "      <td>840</td>\n",
              "      <td>NaN</td>\n",
              "      <td>Weber-Morgan</td>\n",
              "      <td>Utah</td>\n",
              "      <td>US</td>\n",
              "      <td>41.271160</td>\n",
              "      <td>-111.914512</td>\n",
              "      <td>Weber-Morgan, Utah, US</td>\n",
              "      <td>2020-05-03</td>\n",
              "      <td>167</td>\n",
              "      <td>2</td>\n",
              "    </tr>\n",
              "  </tbody>\n",
              "</table>\n",
              "<p>335883 rows × 14 columns</p>\n",
              "</div>"
            ],
            "text/plain": [
              "               UID iso2 iso3  ...       Date  Confirmed Deaths\n",
              "0             16.0   AS  ASM  ... 2020-01-22          0      0\n",
              "1            316.0   GU  GUM  ... 2020-01-22          0      0\n",
              "2            580.0   MP  MNP  ... 2020-01-22          0      0\n",
              "3            630.0   PR  PRI  ... 2020-01-22          0      0\n",
              "4            850.0   VI  VIR  ... 2020-01-22          0      0\n",
              "...            ...  ...  ...  ...        ...        ...    ...\n",
              "335878  84070016.0   US  USA  ... 2020-05-03         24      0\n",
              "335879  84070017.0   US  USA  ... 2020-05-03         11      0\n",
              "335880  84070018.0   US  USA  ... 2020-05-03        111      2\n",
              "335881  84070019.0   US  USA  ... 2020-05-03         14      0\n",
              "335882  84070020.0   US  USA  ... 2020-05-03        167      2\n",
              "\n",
              "[335883 rows x 14 columns]"
            ]
          },
          "metadata": {
            "tags": []
          },
          "execution_count": 82
        }
      ]
    },
    {
      "cell_type": "code",
      "metadata": {
        "id": "-tkHQJ0Y8Hiq",
        "colab_type": "code",
        "colab": {
          "base_uri": "https://localhost:8080/",
          "height": 291
        },
        "outputId": "17b7dcf4-9c47-4ac9-869e-52ee33a19bfa"
      },
      "source": [
        "# dropping columns except some\n",
        "cols = ['Date', 'Confirmed', 'Deaths']\n",
        "data.drop(data.columns.difference(cols), 1, inplace=True)\n",
        "\n",
        "# grouping by a date to summarise daily cases \n",
        "data_daily = data.groupby(by=['Date']).sum()\n",
        "data_daily.describe()"
      ],
      "execution_count": 83,
      "outputs": [
        {
          "output_type": "execute_result",
          "data": {
            "text/html": [
              "<div>\n",
              "<style scoped>\n",
              "    .dataframe tbody tr th:only-of-type {\n",
              "        vertical-align: middle;\n",
              "    }\n",
              "\n",
              "    .dataframe tbody tr th {\n",
              "        vertical-align: top;\n",
              "    }\n",
              "\n",
              "    .dataframe thead th {\n",
              "        text-align: right;\n",
              "    }\n",
              "</style>\n",
              "<table border=\"1\" class=\"dataframe\">\n",
              "  <thead>\n",
              "    <tr style=\"text-align: right;\">\n",
              "      <th></th>\n",
              "      <th>Confirmed</th>\n",
              "      <th>Deaths</th>\n",
              "    </tr>\n",
              "  </thead>\n",
              "  <tbody>\n",
              "    <tr>\n",
              "      <th>count</th>\n",
              "      <td>1.030000e+02</td>\n",
              "      <td>103.000000</td>\n",
              "    </tr>\n",
              "    <tr>\n",
              "      <th>mean</th>\n",
              "      <td>2.327804e+05</td>\n",
              "      <td>12051.174757</td>\n",
              "    </tr>\n",
              "    <tr>\n",
              "      <th>std</th>\n",
              "      <td>3.571906e+05</td>\n",
              "      <td>20240.292837</td>\n",
              "    </tr>\n",
              "    <tr>\n",
              "      <th>min</th>\n",
              "      <td>1.000000e+00</td>\n",
              "      <td>0.000000</td>\n",
              "    </tr>\n",
              "    <tr>\n",
              "      <th>25%</th>\n",
              "      <td>1.300000e+01</td>\n",
              "      <td>0.000000</td>\n",
              "    </tr>\n",
              "    <tr>\n",
              "      <th>50%</th>\n",
              "      <td>2.147000e+03</td>\n",
              "      <td>50.000000</td>\n",
              "    </tr>\n",
              "    <tr>\n",
              "      <th>75%</th>\n",
              "      <td>4.128875e+05</td>\n",
              "      <td>17230.500000</td>\n",
              "    </tr>\n",
              "    <tr>\n",
              "      <th>max</th>\n",
              "      <td>1.158040e+06</td>\n",
              "      <td>67682.000000</td>\n",
              "    </tr>\n",
              "  </tbody>\n",
              "</table>\n",
              "</div>"
            ],
            "text/plain": [
              "          Confirmed        Deaths\n",
              "count  1.030000e+02    103.000000\n",
              "mean   2.327804e+05  12051.174757\n",
              "std    3.571906e+05  20240.292837\n",
              "min    1.000000e+00      0.000000\n",
              "25%    1.300000e+01      0.000000\n",
              "50%    2.147000e+03     50.000000\n",
              "75%    4.128875e+05  17230.500000\n",
              "max    1.158040e+06  67682.000000"
            ]
          },
          "metadata": {
            "tags": []
          },
          "execution_count": 83
        }
      ]
    },
    {
      "cell_type": "markdown",
      "metadata": {
        "id": "nRiXUDMgVJkS",
        "colab_type": "text"
      },
      "source": [
        "Okay, one thing - the number of entries is pretty low. This might be challenging while teaching the network. It might be worth considering to reduce the timespan of the input data. \n",
        "\n",
        "Also ... the death toll is making me question the ethics of this project..."
      ]
    },
    {
      "cell_type": "code",
      "metadata": {
        "id": "jzxRP4vrCGVq",
        "colab_type": "code",
        "colab": {
          "base_uri": "https://localhost:8080/",
          "height": 513
        },
        "outputId": "cee6dc2e-b02b-4ae7-920c-08e80c426452"
      },
      "source": [
        "# visualize \n",
        "plt.figure(figsize=(14,8))\n",
        "plt.title('US COVID-19 statistics')\n",
        "plt.plot(data_daily['Confirmed'])\n",
        "plt.plot(data_daily['Deaths'])\n",
        "plt.grid()\n",
        "plt.xlabel('Date')\n",
        "plt.legend(['Confirmed cases', 'Deaths'])\n",
        "plt.show()"
      ],
      "execution_count": 84,
      "outputs": [
        {
          "output_type": "display_data",
          "data": {
            "image/png": "[encoded data removed]",
            "text/plain": [
              "<Figure size 1008x576 with 1 Axes>"
            ]
          },
          "metadata": {
            "tags": [],
            "needs_background": "light"
          }
        }
      ]
    },
    {
      "cell_type": "markdown",
      "metadata": {
        "id": "m5m2IKyHPhx5",
        "colab_type": "text"
      },
      "source": [
        "As you can see, the curves seem to be exponential to some point and then linear. I'm curious if NN will predict, that both curves should be actually sigmoidal-ish"
      ]
    },
    {
      "cell_type": "markdown",
      "metadata": {
        "id": "zpPl9nV9QhBJ",
        "colab_type": "text"
      },
      "source": [
        "Let's split our problem into modeling cases and deaths"
      ]
    },
    {
      "cell_type": "code",
      "metadata": {
        "id": "6qN152VuMHYV",
        "colab_type": "code",
        "colab": {}
      },
      "source": [
        "cases_data = data_daily.filter(['Confirmed'])\n",
        "death_data = data_daily.filter(['Deaths'])\n",
        "\n",
        "# convert into numpy array\n",
        "cases_dataset = cases_data.values\n",
        "death_dataset = death_data.values\n",
        "\n",
        "# get the size of the training dataset\n",
        "training_data_len = math.floor(len(data_daily)*0.85)"
      ],
      "execution_count": 0,
      "outputs": []
    },
    {
      "cell_type": "code",
      "metadata": {
        "id": "jRqYBpV0SU1o",
        "colab_type": "code",
        "colab": {}
      },
      "source": [
        "# scaling data for purposes of nn training\n",
        "scaler = MinMaxScaler()\n",
        "scaled_c_dataset = scaler.fit_transform(cases_dataset)\n",
        "scaled_d_dataset = scaler.fit_transform(death_dataset)\n",
        "\n",
        "train_c, train_d = scaled_c_dataset[:training_data_len], scaled_d_dataset[:training_data_len]\n",
        "test_c, test_d = scaled_c_dataset[training_data_len:], scaled_d_dataset[training_data_len:]"
      ],
      "execution_count": 0,
      "outputs": []
    },
    {
      "cell_type": "code",
      "metadata": {
        "id": "3xoaRN-4XniO",
        "colab_type": "code",
        "colab": {}
      },
      "source": [
        "# function creating input vectors and corresponding outputs\n",
        "def create_in_out(data, x_size):\n",
        "  x = []\n",
        "  y = []\n",
        "  for i in range(x_size, len(data)):\n",
        "    x.append(data[i - x_size:i, 0])\n",
        "    y.append(data[i, 0])\n",
        "  return np.array(x), np.array(y)"
      ],
      "execution_count": 0,
      "outputs": []
    },
    {
      "cell_type": "code",
      "metadata": {
        "id": "tBD8aPghY4PO",
        "colab_type": "code",
        "colab": {}
      },
      "source": [
        "span = 10\n",
        "x_train_c, y_train_c = create_in_out(train_c, span)\n",
        "x_train_d, y_train_d = create_in_out(train_d, span)\n",
        "\n",
        "# reshaping data for LSTM\n",
        "x_train_c = np.reshape(x_train_c, (x_train_c.shape[0], x_train_c.shape[1], 1))\n",
        "x_train_d = np.reshape(x_train_d, (x_train_d.shape[0], x_train_d.shape[1], 1))"
      ],
      "execution_count": 0,
      "outputs": []
    },
    {
      "cell_type": "code",
      "metadata": {
        "id": "g8Mz1v0af_qF",
        "colab_type": "code",
        "colab": {}
      },
      "source": [
        "# let's quickly create validation data as well\n",
        "x_test_c, y_test_c = create_in_out(test_c, span)\n",
        "x_test_d, y_test_d = create_in_out(test_d, span)\n",
        "\n",
        "# reshaping data for LSTM\n",
        "x_test_c = np.reshape(x_test_c, (x_test_c.shape[0], x_test_c.shape[1], 1))\n",
        "x_test_d = np.reshape(x_test_d, (x_test_d.shape[0], x_test_d.shape[1], 1))"
      ],
      "execution_count": 0,
      "outputs": []
    },
    {
      "cell_type": "markdown",
      "metadata": {
        "id": "8JtXrrJ3cfzK",
        "colab_type": "text"
      },
      "source": [
        "Okay, now when I'm done with data processing it's time to build models"
      ]
    },
    {
      "cell_type": "code",
      "metadata": {
        "id": "BC54cxNQanDD",
        "colab_type": "code",
        "colab": {}
      },
      "source": [
        "model_c = Sequential()\n",
        "model_c.add(LSTM(100, return_sequences=True, activation='relu', input_shape=(span,1)))\n",
        "model_c.add(LSTM(100, return_sequences=True))\n",
        "model_c.add(Dense(20, activation='relu'))\n",
        "model_c.add(Dense(1, activation='softmax'))\n",
        "\n",
        "model_c.compile(optimizer='adam',\n",
        "                loss='mean_squared_error',\n",
        "                metrics=['accuracy']) \n"
      ],
      "execution_count": 0,
      "outputs": []
    },
    {
      "cell_type": "code",
      "metadata": {
        "id": "-_MKXP8Ve9xz",
        "colab_type": "code",
        "colab": {
          "base_uri": "https://localhost:8080/",
          "height": 161
        },
        "outputId": "0eeb36b5-3aeb-4f86-8f93-3eef5c02aa23"
      },
      "source": [
        "# lets first take a look a cases\n",
        "model_c.fit(x_train_c, y_train_c, epochs=3, validation_data=(x_test_c, y_test_c))\n"
      ],
      "execution_count": 95,
      "outputs": [
        {
          "output_type": "stream",
          "text": [
            "Epoch 1/3\n",
            "3/3 [==============================] - 1s 184ms/step - loss: 0.8542 - accuracy: 0.0000e+00 - val_loss: 0.0058 - val_accuracy: 0.1667\n",
            "Epoch 2/3\n",
            "3/3 [==============================] - 0s 21ms/step - loss: 0.8392 - accuracy: 0.0000e+00 - val_loss: 0.0058 - val_accuracy: 0.1667\n",
            "Epoch 3/3\n",
            "3/3 [==============================] - 0s 21ms/step - loss: 0.8354 - accuracy: 0.0000e+00 - val_loss: 0.0058 - val_accuracy: 0.1667\n"
          ],
          "name": "stdout"
        },
        {
          "output_type": "execute_result",
          "data": {
            "text/plain": [
              "<tensorflow.python.keras.callbacks.History at 0x7f3b25f5fac8>"
            ]
          },
          "metadata": {
            "tags": []
          },
          "execution_count": 95
        }
      ]
    },
    {
      "cell_type": "markdown",
      "metadata": {
        "id": "4OeEY2g5Gke4",
        "colab_type": "text"
      },
      "source": [
        "Okay. The loss is horrible. Data augmentation time!"
      ]
    }
  ]
}